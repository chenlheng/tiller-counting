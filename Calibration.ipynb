{
 "cells": [
  {
   "cell_type": "code",
   "execution_count": 1,
   "metadata": {},
   "outputs": [],
   "source": [
    "import numpy as np\n",
    "import cv2"
   ]
  },
  {
   "cell_type": "code",
   "execution_count": 2,
   "metadata": {},
   "outputs": [],
   "source": [
    "path = '/mnt/hgfs/Shared/Image/'\n",
    "pics = ['10.bmp', '11.bmp', '12.bmp']\n",
    "ref_sizes = [(3, 4), (6, 7), (6, 6)]"
   ]
  },
  {
   "cell_type": "code",
   "execution_count": 3,
   "metadata": {},
   "outputs": [],
   "source": [
    "criteria = (cv2.TERM_CRITERIA_EPS + cv2.TERM_CRITERIA_MAX_ITER, 30, 0.001)"
   ]
  },
  {
   "cell_type": "code",
   "execution_count": 4,
   "metadata": {},
   "outputs": [],
   "source": [
    "def process(pic, ref_size, criteria):\n",
    "    img = cv2.imread(path+pic)\n",
    "    gray = cv2.cvtColor(img,cv2.COLOR_BGR2GRAY)\n",
    "    # cv2.imshow('gray', gray)\n",
    "    # if cv2.waitKey():\n",
    "    #     cv2.destroyAllWindows()\n",
    "    \n",
    "    objp = np.zeros((ref_size[0]*ref_size[1], 3), np.float32)\n",
    "    objp[:,:2] = np.mgrid[0:ref_size[0],0:ref_size[1]].T.reshape(-1,2)\n",
    "    \n",
    "    ret, corners = cv2.findChessboardCorners(gray, ref_size, None)\n",
    "    # size = (actual_num_column-1, actual_num_row-1)\n",
    "    \n",
    "    # refine the cornor locations\n",
    "    corners2 = cv2.cornerSubPix(gray,corners,(11,11),(-1,-1),criteria)\n",
    "\n",
    "    # img = cv2.drawChessboardCorners(img, ref_size, corners2, ret)\n",
    "    # cv2.imwrite(pattern + 'res_' + pic, img)\n",
    "    # cv2.waitKey(0)\n",
    "    \n",
    "    objpoints = []\n",
    "    imgpoints = []\n",
    "    objpoints.append(objp)\n",
    "    imgpoints.append(corners)\n",
    "    ret, mtx, dist, rvecs, tvecs = cv2.calibrateCamera(objpoints, imgpoints, gray.shape[::-1],None,None)\n",
    "    \n",
    "    h,  w = img.shape[:2]\n",
    "    newcameramtx, roi=cv2.getOptimalNewCameraMatrix(mtx,dist,(w,h),1,(w,h))\n",
    "    \n",
    "    # undistort\n",
    "    dst = cv2.undistort(img, mtx, dist, None, newcameramtx)\n",
    "\n",
    "    # crop the image\n",
    "    x,y,w,h = roi\n",
    "    dst = dst[y:y+h, x:x+w]\n",
    "    cv2.imwrite(path+'res_'+pic,dst)\n",
    "    \n",
    "    return ret, mtx, dist, rvecs, tvecs"
   ]
  },
  {
   "cell_type": "code",
   "execution_count": 5,
   "metadata": {},
   "outputs": [
    {
     "name": "stdout",
     "output_type": "stream",
     "text": [
      "[[2.46627017e+03 0.00000000e+00 1.01369221e+03]\n",
      " [0.00000000e+00 2.38916557e+03 1.17248422e+03]\n",
      " [0.00000000e+00 0.00000000e+00 1.00000000e+00]]\n",
      "[[2.92877046e+03 0.00000000e+00 1.13933613e+03]\n",
      " [0.00000000e+00 2.91039292e+03 9.80192100e+02]\n",
      " [0.00000000e+00 0.00000000e+00 1.00000000e+00]]\n"
     ]
    }
   ],
   "source": [
    "for i in range(1, len(pics)):\n",
    "    ret, mtx, dist, rvecs, tvecs = process(pics[i], ref_sizes[i], criteria)\n",
    "    print(mtx)"
   ]
  }
 ],
 "metadata": {
  "kernelspec": {
   "display_name": "Python 3",
   "language": "python",
   "name": "python3"
  },
  "language_info": {
   "codemirror_mode": {
    "name": "ipython",
    "version": 3
   },
   "file_extension": ".py",
   "mimetype": "text/x-python",
   "name": "python",
   "nbconvert_exporter": "python",
   "pygments_lexer": "ipython3",
   "version": "3.5.2"
  }
 },
 "nbformat": 4,
 "nbformat_minor": 2
}
